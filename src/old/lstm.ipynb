{
 "cells": [
  {
   "cell_type": "code",
   "execution_count": 1,
   "metadata": {},
   "outputs": [],
   "source": [
    "import pandas as pd\n",
    "import numpy as np\n",
    "\n",
    "import datetime \n",
    "\n",
    "import os\n",
    "import tempfile\n",
    "from scipy import stats\n",
    "import tensorflow as tf\n",
    "\n",
    "from google.cloud import storage\n",
    "\n",
    "from sklearn import metrics\n",
    "\n",
    "from sklearn.metrics import classification_report\n",
    "from sklearn.model_selection import train_test_split\n",
    "\n",
    "from tensorflow.keras import Model, initializers, optimizers, regularizers\n",
    "from tensorflow.keras.layers import Input, Dense, Conv1D, Dropout, LSTM, TimeDistributed, Activation,Softmax\n",
    "from tensorflow.keras.callbacks import ModelCheckpoint\n",
    "\n",
    "os.chdir('/home/jupyter/physiolyx/src/')\n",
    "\n",
    "\n",
    "\n"
   ]
  },
  {
   "cell_type": "code",
   "execution_count": 2,
   "metadata": {},
   "outputs": [],
   "source": []
  },
  {
   "cell_type": "code",
   "execution_count": 3,
   "metadata": {},
   "outputs": [],
   "source": [
    "data = {'bucket':'physio-bucket', 'name':'moniLabData 20-03-2020.txt'}"
   ]
  },
  {
   "cell_type": "code",
   "execution_count": 4,
   "metadata": {},
   "outputs": [
    {
     "name": "stdout",
     "output_type": "stream",
     "text": [
      "Blob moniLabData 20-03-2020.txt downloaded to file.txt.\n"
     ]
    }
   ],
   "source": [
    "colslab = ['index','scene_index','time','ms_lastline','head_posx',\"head_posy\",\"head_posz\",\"head_rotx\",\"head_roty\",\"head_rotz\",\n",
    "        \"right_posx\",\"right_posy\",\"right_posz\",\"right_rotx\",\"right_roty\",\"right_rotz\",\n",
    "        \"left_posx\",\"left_posy\",\"left_posz\",\"left_rotx\",\"left_roty\",\"left_rotz\",'timedel','action']\n",
    "\n",
    "blobDownloader(data['bucket'],data['name'],'file.txt')\n",
    "table = tableReader('file.txt',cols=colslab)\n"
   ]
  },
  {
   "cell_type": "code",
   "execution_count": 5,
   "metadata": {},
   "outputs": [],
   "source": [
    "table = tableProcessor(table, data, serve= False)"
   ]
  },
  {
   "cell_type": "code",
   "execution_count": 6,
   "metadata": {},
   "outputs": [],
   "source": [
    "table= table.loc[:,['action',\"head_rotx\",\"head_roty\",\"head_rotz\"]]\n",
    "\n",
    "table = table[table.action != 'STILL']\n",
    "\n",
    "table = table[0:11130]"
   ]
  },
  {
   "cell_type": "code",
   "execution_count": 7,
   "metadata": {},
   "outputs": [
    {
     "data": {
      "text/plain": [
       "action\n",
       "3DLEX     145\n",
       "3DLFL     503\n",
       "3DREX     361\n",
       "3DRFL     359\n",
       "EXTE     2230\n",
       "FLEX     1799\n",
       "LBEN     1010\n",
       "LROT     1945\n",
       "RBEN      864\n",
       "RROT     1914\n",
       "dtype: int64"
      ]
     },
     "execution_count": 7,
     "metadata": {},
     "output_type": "execute_result"
    }
   ],
   "source": [
    "table.groupby('action').size()"
   ]
  },
  {
   "cell_type": "markdown",
   "metadata": {},
   "source": [
    "## Control room"
   ]
  },
  {
   "cell_type": "code",
   "execution_count": 8,
   "metadata": {},
   "outputs": [],
   "source": [
    "colspre = [\"head_rotx\",\"head_roty\",\"head_rotz\"]\n",
    "\n",
    "timeSteps = 72\n",
    "n_features = len(colspre)\n",
    "n_classes = table.action.unique().size\n",
    "\n",
    "method = 'last'"
   ]
  },
  {
   "cell_type": "code",
   "execution_count": 10,
   "metadata": {},
   "outputs": [
    {
     "name": "stdout",
     "output_type": "stream",
     "text": [
      "Missing features, filling with 0's\n",
      "Preprocessing completed\n",
      "Missing labels, filling with 0's\n"
     ]
    }
   ],
   "source": [
    "X = featureProcessor(table, cols=colspre, serve=False)\n",
    "y, true = labelProcessor(table, timeSteps=timeSteps, step=14, method = method)"
   ]
  },
  {
   "cell_type": "code",
   "execution_count": 220,
   "metadata": {},
   "outputs": [
    {
     "name": "stdout",
     "output_type": "stream",
     "text": [
      "0\n",
      "1\n",
      "2\n",
      "3\n",
      "4\n"
     ]
    }
   ],
   "source": [
    "for x in range(5):\n",
    "    print(x)\n"
   ]
  },
  {
   "cell_type": "code",
   "execution_count": 18,
   "metadata": {},
   "outputs": [],
   "source": [
    "def modelFitter(X,y, model, epochs=1, batch_size=12):\n",
    "    '''removed .hdf5 from filename'''\n",
    "    \n",
    "    # define loss and optimizer\n",
    "    adam = optimizers.Adam(learning_rate=0.001) #(ordo learning_rate=0.01, decay=0.9)\n",
    "\n",
    "    model.compile(optimizer=adam, loss='categorical_crossentropy', metrics=['categorical_accuracy']) #or categorical_accuracy? #sparse categorical crossentropy if labels not one-hot encoded\n",
    "    model.save_weights('model.h5')\n",
    "    \n",
    "    model.load_weights('model.h5')\n",
    "    \n",
    "    callbacks = ModelCheckpoint('model_ep{epoch:02d}_val{val_categorical_accuracy:.2f}', monitor='val_categorical_accuracy', verbose=0,\n",
    "                                save_best_only=True, save_weights_only=True, mode='max')\n",
    "    history = model.fit(X,y, validation_split = 0.2, batch_size = 12,\n",
    "                epochs = epochs, callbacks = [callbacks])\n",
    "    return history"
   ]
  },
  {
   "cell_type": "code",
   "execution_count": 19,
   "metadata": {},
   "outputs": [
    {
     "name": "stdout",
     "output_type": "stream",
     "text": [
      "Train on 632 samples, validate on 158 samples\n",
      "632/632 [==============================] - 14s 22ms/sample - loss: 2.9483 - categorical_accuracy: 0.1946 - val_loss: 2.7084 - val_categorical_accuracy: 0.1329\n"
     ]
    },
    {
     "data": {
      "text/plain": [
       "<tensorflow.python.keras.callbacks.History at 0x7f2008175050>"
      ]
     },
     "execution_count": 19,
     "metadata": {},
     "output_type": "execute_result"
    }
   ],
   "source": [
    "model = SimpleLSTM(timeSteps=72, n_features=3, n_classes=10)\n",
    "modelFitter(X,y,model)"
   ]
  },
  {
   "cell_type": "code",
   "execution_count": 22,
   "metadata": {},
   "outputs": [],
   "source": [
    "os.chdir('/home/jupyter/physiolyx/src/old/')"
   ]
  },
  {
   "cell_type": "code",
   "execution_count": 214,
   "metadata": {},
   "outputs": [],
   "source": [
    "def actionPredictor(bucket, df):\n",
    "    global model\n",
    "\n",
    "    # Model load which only happens during cold starts\n",
    "    if model is None:\n",
    "        download_blob(bucket, 'model_ep04_val0.25.index', '/tmp/model_ep04_val0.25.index')\n",
    "        download_blob(bucket, 'model_ep04_val0.25.data-00000-of-00001', '/tmp/model_ep04_val0.25.data-00000-of-00001')\n",
    "        model = model\n",
    "        model.load_weights('/tmp/model_ep04_val0.25')\n",
    "    \n",
    "    class_names=['RROT', 'EXTE', 'LROT', 'FLEX', 'RBEN', 'LBEN', '3DLEX', '3DREX',\n",
    "       '3DLFL', '3DRFL']\n",
    "    \n",
    "    actionPred = []\n",
    "    \n",
    "    for r in range(df.shape[0]):  \n",
    "        pred = model.call(df[r:r+1])\n",
    "        actionPred.append(class_names[np.argmax(pred)])\n",
    "\n",
    "        \n",
    "    return actionPred"
   ]
  },
  {
   "cell_type": "code",
   "execution_count": 82,
   "metadata": {},
   "outputs": [
    {
     "ename": "NameError",
     "evalue": "name 'upload_blob' is not defined",
     "output_type": "error",
     "traceback": [
      "\u001b[0;31m---------------------------------------------------------------------------\u001b[0m",
      "\u001b[0;31mNameError\u001b[0m                                 Traceback (most recent call last)",
      "\u001b[0;32m<ipython-input-82-9cc567bb4de9>\u001b[0m in \u001b[0;36m<module>\u001b[0;34m\u001b[0m\n\u001b[1;32m      1\u001b[0m \u001b[0mweights\u001b[0m\u001b[0;34m=\u001b[0m\u001b[0;34m[\u001b[0m\u001b[0;34m'model_ep04_val0.25.index'\u001b[0m\u001b[0;34m,\u001b[0m\u001b[0;34m'model_ep04_val0.25.data-00000-of-00001'\u001b[0m\u001b[0;34m]\u001b[0m\u001b[0;34m\u001b[0m\u001b[0;34m\u001b[0m\u001b[0m\n\u001b[1;32m      2\u001b[0m \u001b[0;34m\u001b[0m\u001b[0m\n\u001b[0;32m----> 3\u001b[0;31m \u001b[0;34m[\u001b[0m\u001b[0mupload_blob\u001b[0m\u001b[0;34m(\u001b[0m\u001b[0mdata\u001b[0m\u001b[0;34m[\u001b[0m\u001b[0;34m'bucket'\u001b[0m\u001b[0;34m]\u001b[0m\u001b[0;34m,\u001b[0m\u001b[0mw\u001b[0m\u001b[0;34m,\u001b[0m\u001b[0mw\u001b[0m\u001b[0;34m)\u001b[0m \u001b[0;32mfor\u001b[0m \u001b[0mw\u001b[0m \u001b[0;32min\u001b[0m \u001b[0mweights\u001b[0m\u001b[0;34m]\u001b[0m\u001b[0;34m\u001b[0m\u001b[0;34m\u001b[0m\u001b[0m\n\u001b[0m\u001b[1;32m      4\u001b[0m \u001b[0;34m\u001b[0m\u001b[0m\n",
      "\u001b[0;32m<ipython-input-82-9cc567bb4de9>\u001b[0m in \u001b[0;36m<listcomp>\u001b[0;34m(.0)\u001b[0m\n\u001b[1;32m      1\u001b[0m \u001b[0mweights\u001b[0m\u001b[0;34m=\u001b[0m\u001b[0;34m[\u001b[0m\u001b[0;34m'model_ep04_val0.25.index'\u001b[0m\u001b[0;34m,\u001b[0m\u001b[0;34m'model_ep04_val0.25.data-00000-of-00001'\u001b[0m\u001b[0;34m]\u001b[0m\u001b[0;34m\u001b[0m\u001b[0;34m\u001b[0m\u001b[0m\n\u001b[1;32m      2\u001b[0m \u001b[0;34m\u001b[0m\u001b[0m\n\u001b[0;32m----> 3\u001b[0;31m \u001b[0;34m[\u001b[0m\u001b[0mupload_blob\u001b[0m\u001b[0;34m(\u001b[0m\u001b[0mdata\u001b[0m\u001b[0;34m[\u001b[0m\u001b[0;34m'bucket'\u001b[0m\u001b[0;34m]\u001b[0m\u001b[0;34m,\u001b[0m\u001b[0mw\u001b[0m\u001b[0;34m,\u001b[0m\u001b[0mw\u001b[0m\u001b[0;34m)\u001b[0m \u001b[0;32mfor\u001b[0m \u001b[0mw\u001b[0m \u001b[0;32min\u001b[0m \u001b[0mweights\u001b[0m\u001b[0;34m]\u001b[0m\u001b[0;34m\u001b[0m\u001b[0;34m\u001b[0m\u001b[0m\n\u001b[0m\u001b[1;32m      4\u001b[0m \u001b[0;34m\u001b[0m\u001b[0m\n",
      "\u001b[0;31mNameError\u001b[0m: name 'upload_blob' is not defined"
     ]
    }
   ],
   "source": [
    "weights=['model_ep04_val0.25.index','model_ep04_val0.25.data-00000-of-00001']\n",
    "\n",
    "[upload_blob(data['bucket'],w,w) for w in weights]\n",
    "\n"
   ]
  },
  {
   "cell_type": "code",
   "execution_count": 170,
   "metadata": {},
   "outputs": [],
   "source": [
    "def featureProcess(df, cols, timeSteps=72, step=14, serve=True):\n",
    "    '''preprocessing. WORKS ONE MARKER AT THE TIME. WATCH OUT FOR OUTPUTNAMES'''\n",
    "\n",
    "    if cols is None:\n",
    "        cols = [\"head_rotx\",\"head_roty\",\"head_rotz\"]\n",
    "        \n",
    "    features= len(cols)\n",
    "    segments = []\n",
    "    coldict = {}\n",
    "\n",
    "    #fill 0's\n",
    "    if [colBlank(df, col=c) for c in cols]:\n",
    "        print('Missing features, filling with 0\\'s')\n",
    "        df = df.fillna(0)\n",
    "        \n",
    "    #normalise data otherwise loss= nan\n",
    "    for col in cols:\n",
    "        df[col] = (df[col] - df[col].min())/(df[col].max()-df[col].min())\n",
    "\n",
    "    #we reshape into 3d arrays of length equal to timesteps. final df is= (N*timesteps*features)\n",
    "    if serve:\n",
    "        \n",
    "        for i in range(0, len(df)-timeSteps, timeSteps):\n",
    "            \n",
    "            for col in cols:\n",
    "\n",
    "                coldict[str(col[5:])] = df[col].values[i: i + timeSteps]\n",
    "                segments.append(coldict[str(col[5:])])\n",
    "\n",
    "    else:     \n",
    "        \n",
    "        for i in range(0, len(df) - timeSteps, step):\n",
    "            \n",
    "            for col in cols:\n",
    "\n",
    "                coldict[str(col[5:])] = df[col].values[i: i + timeSteps]\n",
    "                segments.append(coldict[str(col[5:])])\n",
    "   \n",
    "    reshaped_segments = np.asarray(segments, dtype= np.float32).reshape(-1, timeSteps, features)\n",
    "\n",
    "    print('Preprocessing completed')\n",
    "\n",
    "    return reshaped_segments"
   ]
  },
  {
   "cell_type": "code",
   "execution_count": 215,
   "metadata": {},
   "outputs": [
    {
     "data": {
      "text/plain": [
       "(11130, 5)"
      ]
     },
     "execution_count": 215,
     "metadata": {},
     "output_type": "execute_result"
    }
   ],
   "source": [
    "test = table\n",
    "\n",
    "test.shape"
   ]
  },
  {
   "cell_type": "code",
   "execution_count": 216,
   "metadata": {},
   "outputs": [
    {
     "name": "stdout",
     "output_type": "stream",
     "text": [
      "Missing features, filling with 0's\n",
      "Preprocessing completed\n"
     ]
    },
    {
     "data": {
      "text/plain": [
       "(154, 72, 3)"
      ]
     },
     "execution_count": 216,
     "metadata": {},
     "output_type": "execute_result"
    }
   ],
   "source": [
    "Xtest = featureProcess(test, cols=None, serve=True)\n",
    "Xtest.shape"
   ]
  },
  {
   "cell_type": "code",
   "execution_count": 218,
   "metadata": {},
   "outputs": [],
   "source": [
    "df = test"
   ]
  },
  {
   "cell_type": "code",
   "execution_count": 219,
   "metadata": {},
   "outputs": [],
   "source": [
    "\n",
    "\n"
   ]
  },
  {
   "cell_type": "code",
   "execution_count": 213,
   "metadata": {},
   "outputs": [
    {
     "data": {
      "text/plain": [
       "array(['3DREX', 'LBEN', 'RBEN'], dtype=object)"
      ]
     },
     "execution_count": 213,
     "metadata": {},
     "output_type": "execute_result"
    }
   ],
   "source": [
    "table['output'].unique()"
   ]
  },
  {
   "cell_type": "code",
   "execution_count": 212,
   "metadata": {},
   "outputs": [
    {
     "data": {
      "text/plain": [
       "array(['LBEN', '3DREX'], dtype=object)"
      ]
     },
     "execution_count": 212,
     "metadata": {},
     "output_type": "execute_result"
    }
   ],
   "source": [
    "table.loc[table.action==table.output,'action'].unique()"
   ]
  },
  {
   "cell_type": "code",
   "execution_count": 94,
   "metadata": {},
   "outputs": [
    {
     "data": {
      "text/plain": [
       "array([[0.56367064, 0.562295  , 0.5610287 ],\n",
       "       [0.5598535 , 0.55879676, 0.5578766 ],\n",
       "       [0.55710226, 0.5564372 , 0.5554898 ],\n",
       "       [0.5545332 , 0.5534582 , 0.5527385 ],\n",
       "       [0.55220103, 0.55180925, 0.55189127],\n",
       "       [0.5521737 , 0.55259275, 0.55297536],\n",
       "       [0.5535129 , 0.5538408 , 0.55382264],\n",
       "       [0.5534491 , 0.55315757, 0.5528843 ],\n",
       "       [0.55233765, 0.55205524, 0.55153596],\n",
       "       [0.5510987 , 0.55069786, 0.5502241 ],\n",
       "       [0.5498961 , 0.54955906, 0.54927665],\n",
       "       [0.5491309 , 0.5489487 , 0.5487665 ],\n",
       "       [0.5485296 , 0.54804677, 0.54773706],\n",
       "       [0.54758215, 0.54766417, 0.54775524],\n",
       "       [0.5479557 , 0.5480559 , 0.5481288 ],\n",
       "       [0.5484294 , 0.5487665 , 0.54907626],\n",
       "       [0.5494953 , 0.54987794, 0.5501786 ],\n",
       "       [0.5503881 , 0.5503517 , 0.5502514 ],\n",
       "       [0.5501057 , 0.55019677, 0.55029696],\n",
       "       [0.55043364, 0.55054295, 0.5506796 ],\n",
       "       [0.5507707 , 0.55087095, 0.55096203],\n",
       "       [0.55115336, 0.5512627 , 0.5514904 ],\n",
       "       [0.5516544 , 0.5517911 , 0.55196416],\n",
       "       [0.55213726, 0.55220103, 0.5522466 ],\n",
       "       [0.509196  , 0.50052357, 0.49209753],\n",
       "       [0.48444757, 0.47745052, 0.47112483],\n",
       "       [0.46517485, 0.45984083, 0.45482096],\n",
       "       [0.4501583 , 0.44613007, 0.44223118],\n",
       "       [0.43851706, 0.43568993, 0.43313378],\n",
       "       [0.43073776, 0.429007  , 0.42728853],\n",
       "       [0.42625374, 0.42521897, 0.4243012 ],\n",
       "       [0.42378998, 0.4235005 , 0.42334652],\n",
       "       [0.4234266 , 0.4235929 , 0.42382693],\n",
       "       [0.42410412, 0.42444906, 0.42472622],\n",
       "       [0.42511424, 0.4254407 , 0.42572403],\n",
       "       [0.42606896, 0.42643237, 0.42675266],\n",
       "       [0.42717764, 0.4276396 , 0.4280831 ],\n",
       "       [0.42852655, 0.4290501 , 0.4296106 ],\n",
       "       [0.43011567, 0.43060842, 0.43105805],\n",
       "       [0.4316001 , 0.4320805 , 0.43254247],\n",
       "       [0.43304136, 0.43347254, 0.43389753],\n",
       "       [0.43429172, 0.43460587, 0.43491384],\n",
       "       [0.43513557, 0.435345  , 0.43551746],\n",
       "       [0.43556672, 0.4356591 , 0.43567145],\n",
       "       [0.43568376, 0.43566528, 0.43556672],\n",
       "       [0.43556672, 0.43539426, 0.43528956],\n",
       "       [0.43514174, 0.4350432 , 0.43500623],\n",
       "       [0.4348399 , 0.43486455, 0.43471673],\n",
       "       [0.07236917, 0.07053173, 0.06893606],\n",
       "       [0.06793676, 0.06753381, 0.06732427],\n",
       "       [0.0669858 , 0.06693745, 0.06709863],\n",
       "       [0.06719533, 0.0673404 , 0.06705027],\n",
       "       [0.06626049, 0.0655352 , 0.06460036],\n",
       "       [0.06350435, 0.06281128, 0.06256951],\n",
       "       [0.06295633, 0.06390729, 0.06527731],\n",
       "       [0.06716309, 0.06869429, 0.06988701],\n",
       "       [0.07088632, 0.07161162, 0.07244975],\n",
       "       [0.07307835, 0.07407766, 0.0747546 ],\n",
       "       [0.07539932, 0.07580227, 0.07630192],\n",
       "       [0.07667263, 0.07702722, 0.07741405],\n",
       "       [0.07788147, 0.07813936, 0.07807488],\n",
       "       [0.07801041, 0.07805876, 0.07815547],\n",
       "       [0.07823607, 0.07812323, 0.078091  ],\n",
       "       [0.07788147, 0.07775252, 0.07757523],\n",
       "       [0.07765582, 0.0779137 , 0.07812323],\n",
       "       [0.07852618, 0.07878407, 0.07915478],\n",
       "       [0.07967055, 0.07997679, 0.08058927],\n",
       "       [0.08094386, 0.08121786, 0.08165304],\n",
       "       [0.08212046, 0.08257177, 0.08294248],\n",
       "       [0.08316813, 0.08329707, 0.08320036],\n",
       "       [0.08336154, 0.08344213, 0.08389343],\n",
       "       [0.0839579 , 0.08428026, 0.08458649]], dtype=float32)"
      ]
     },
     "execution_count": 94,
     "metadata": {},
     "output_type": "execute_result"
    }
   ],
   "source": [
    "#for every element of the list, print it 72 times and create a Series. then stack it to the df"
   ]
  },
  {
   "cell_type": "code",
   "execution_count": 136,
   "metadata": {},
   "outputs": [
    {
     "data": {
      "text/plain": [
       "72"
      ]
     },
     "execution_count": 136,
     "metadata": {},
     "output_type": "execute_result"
    }
   ],
   "source": [
    "cols=['head_rotx','head_roty','head_rotz']\n",
    "for i in range(0, len(df) - timeSteps, step):\n",
    "    for col in cols:\n",
    "\n",
    "        coldict[str(col[5:])] = table[col].values[i: i + timeSteps]\n",
    "\n",
    "        segments.append(coldict[str(col[5:])])"
   ]
  },
  {
   "cell_type": "code",
   "execution_count": null,
   "metadata": {},
   "outputs": [],
   "source": []
  }
 ],
 "metadata": {
  "kernelspec": {
   "display_name": "Python 3",
   "language": "python",
   "name": "python3"
  },
  "language_info": {
   "codemirror_mode": {
    "name": "ipython",
    "version": 3
   },
   "file_extension": ".py",
   "mimetype": "text/x-python",
   "name": "python",
   "nbconvert_exporter": "python",
   "pygments_lexer": "ipython3",
   "version": "3.7.6"
  }
 },
 "nbformat": 4,
 "nbformat_minor": 4
}
