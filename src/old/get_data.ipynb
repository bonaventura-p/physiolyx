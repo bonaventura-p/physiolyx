{
 "cells": [
  {
   "cell_type": "markdown",
   "metadata": {},
   "source": [
    "### This file is run only once to download the data from its source location and store in S3"
   ]
  },
  {
   "cell_type": "code",
   "execution_count": 4,
   "metadata": {},
   "outputs": [],
   "source": [
    "import pandas as pd\n",
    "import re\n",
    "import boto3\n"
   ]
  },
  {
   "cell_type": "code",
   "execution_count": 5,
   "metadata": {},
   "outputs": [
    {
     "name": "stdout",
     "output_type": "stream",
     "text": [
      "mkdir: cannot create directory ‘../data’: File exists\n",
      "--2020-03-24 15:55:21--  http://www.cis.fordham.edu/wisdm/includes/datasets/latest/WISDM_ar_latest.tar.gz\n",
      "Resolving www.cis.fordham.edu (www.cis.fordham.edu)... 150.108.68.29\n",
      "Connecting to www.cis.fordham.edu (www.cis.fordham.edu)|150.108.68.29|:80... connected.\n",
      "HTTP request sent, awaiting response... 200 OK\n",
      "Length: 11404612 (11M) [application/x-gzip]\n",
      "Saving to: ‘../data/WISDM_ar_latest.tar.gz’\n",
      "\n",
      "../data/WISDM_ar_la 100%[===================>]  10.88M  15.5MB/s    in 0.7s    \n",
      "\n",
      "2020-03-24 15:55:22 (15.5 MB/s) - ‘../data/WISDM_ar_latest.tar.gz’ saved [11404612/11404612]\n",
      "\n"
     ]
    }
   ],
   "source": [
    "!mkdir ../data\n",
    "!wget -O ../data/WISDM_ar_latest.tar.gz http://www.cis.fordham.edu/wisdm/includes/datasets/latest/WISDM_ar_latest.tar.gz\n",
    "!tar -zxf ../data/WISDM_ar_latest.tar.gz -C ../data "
   ]
  },
  {
   "cell_type": "code",
   "execution_count": 10,
   "metadata": {},
   "outputs": [
    {
     "name": "stdout",
     "output_type": "stream",
     "text": [
      "{\n",
      "    \"Location\": \"/sagemaker-wisdm2\"\n",
      "}\n"
     ]
    }
   ],
   "source": [
    "!aws s3api create-bucket --bucket sagemaker-wisdm2 --region us-east-1"
   ]
  },
  {
   "cell_type": "code",
   "execution_count": 11,
   "metadata": {},
   "outputs": [],
   "source": [
    "bucket = \"sagemaker-wisdm2\"\n",
    "data_location = 's3://{}'.format(bucket)\n",
    "\n",
    "s3 = boto3.resource('s3')"
   ]
  },
  {
   "cell_type": "code",
   "execution_count": 8,
   "metadata": {},
   "outputs": [],
   "source": [
    "columns = ['user','activity','timestamp', 'x-axis', 'y-axis', 'z-axis']\n",
    "df = pd.read_csv('../data/WISDM_ar_v1.1/WISDM_ar_v1.1_raw.txt', header= None, names = columns)\n",
    "\n",
    "df['z-axis'] = [re.sub(';','', str(df.loc[row,'z-axis'])) for row in range(len(df))]    "
   ]
  },
  {
   "cell_type": "markdown",
   "metadata": {},
   "source": [
    "### Data is split into 12 files to simulate different data drops"
   ]
  },
  {
   "cell_type": "code",
   "execution_count": 12,
   "metadata": {},
   "outputs": [
    {
     "name": "stdout",
     "output_type": "stream",
     "text": [
      "data/df0.csv\n",
      "data/df1.csv\n",
      "data/df2.csv\n",
      "data/df3.csv\n",
      "data/df4.csv\n",
      "data/df5.csv\n",
      "data/df6.csv\n",
      "data/df7.csv\n",
      "data/df8.csv\n",
      "data/df9.csv\n",
      "data/df10.csv\n",
      "data/df11.csv\n"
     ]
    }
   ],
   "source": [
    "length = int(len(df)/12)\n",
    "\n",
    "for i in range(12):\n",
    "    init=int(i*length)\n",
    "    fin = int(init+length)\n",
    "    prefix = '../'\n",
    "    fname = 'data/df' + str(i) + '.csv'\n",
    "    df[init:fin].to_csv(str(prefix+fname), index=False, header=True)\n",
    "    s3.Bucket(bucket).upload_file(str(prefix+fname), fname)\n",
    "    print(fname)"
   ]
  },
  {
   "cell_type": "code",
   "execution_count": null,
   "metadata": {},
   "outputs": [],
   "source": []
  },
  {
   "cell_type": "code",
   "execution_count": null,
   "metadata": {},
   "outputs": [],
   "source": []
  },
  {
   "cell_type": "code",
   "execution_count": null,
   "metadata": {},
   "outputs": [],
   "source": []
  },
  {
   "cell_type": "code",
   "execution_count": null,
   "metadata": {},
   "outputs": [],
   "source": []
  }
 ],
 "metadata": {
  "kernelspec": {
   "display_name": "Python 3",
   "language": "python",
   "name": "python3"
  },
  "language_info": {
   "codemirror_mode": {
    "name": "ipython",
    "version": 3
   },
   "file_extension": ".py",
   "mimetype": "text/x-python",
   "name": "python",
   "nbconvert_exporter": "python",
   "pygments_lexer": "ipython3",
   "version": "3.7.3"
  }
 },
 "nbformat": 4,
 "nbformat_minor": 4
}
