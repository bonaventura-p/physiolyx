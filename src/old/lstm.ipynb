{
 "cells": [
  {
   "cell_type": "code",
   "execution_count": 1,
   "metadata": {},
   "outputs": [
    {
     "name": "stderr",
     "output_type": "stream",
     "text": [
      "/Users/bonaventurapacileo/anaconda3/lib/python3.7/site-packages/statsmodels/tools/_testing.py:19: FutureWarning:\n",
      "\n",
      "pandas.util.testing is deprecated. Use the functions in the public API at pandas.testing instead.\n",
      "\n"
     ]
    },
    {
     "data": {
      "text/plain": [
       "'/Users/bonaventurapacileo/Documents/IS-DS/VR'"
      ]
     },
     "execution_count": 1,
     "metadata": {},
     "output_type": "execute_result"
    }
   ],
   "source": [
    "import plotly as py\n",
    "import pandas as pd\n",
    "import numpy as np\n",
    "import matplotlib.pyplot as plt\n",
    "import seaborn as sns\n",
    "import plotly.express as px\n",
    "\n",
    "\n",
    "import datetime \n",
    "from plotly.offline import plot\n",
    "\n",
    "\n",
    "\n",
    "\n",
    "import plotly.tools as plotly_tools\n",
    "from plotly.graph_objs import *\n",
    "import plotly.graph_objects as go\n",
    "\n",
    "import os\n",
    "import tempfile\n",
    "\n",
    "from IPython.display import HTML\n",
    "from chart_studio.plotly import plot, iplot\n",
    "\n",
    "#os.environ['MPLCONFIGDIR'] = tempfile.mkdtemp()\n",
    "plt.style.use('ggplot')\n",
    "\n",
    "\n",
    "#os.chdir('/Users/bonaventurapacileo/Documents/IS-DS/VR')\n",
    "os.getcwd()\n",
    "\n",
    "\n",
    "\n",
    "\n"
   ]
  },
  {
   "cell_type": "code",
   "execution_count": 2,
   "metadata": {},
   "outputs": [],
   "source": [
    "cols = ['index','scene_index','time','ms_lastline','head_posx',\"head_posy\",\"head_posz\",\"head_rotx\",\"head_roty\",\"head_rotz\",\n",
    "        \"right_posx\",\"right_posy\",\"right_posz\",\"right_rotx\",\"right_roty\",\"right_rotz\",\n",
    "        \"left_posx\",\"left_posy\",\"left_posz\",\"left_rotx\",\"left_roty\",\"left_rotz\",]\n",
    "\n",
    "alldata = pd.read_table('/Users/bonaventurapacileo/Documents/IS-DS/VR/data/monitorData 18-03-2020.txt', sep=',', header=0, names=cols)\n",
    "\n"
   ]
  },
  {
   "cell_type": "code",
   "execution_count": 3,
   "metadata": {},
   "outputs": [],
   "source": [
    "alldata.loc[:,'head_posx':] = alldata.loc[:,'head_posx':]/1000"
   ]
  },
  {
   "cell_type": "code",
   "execution_count": 4,
   "metadata": {},
   "outputs": [
    {
     "name": "stderr",
     "output_type": "stream",
     "text": [
      "/Users/bonaventurapacileo/anaconda3/lib/python3.7/site-packages/ipykernel_launcher.py:2: SettingWithCopyWarning:\n",
      "\n",
      "\n",
      "A value is trying to be set on a copy of a slice from a DataFrame.\n",
      "Try using .loc[row_indexer,col_indexer] = value instead\n",
      "\n",
      "See the caveats in the documentation: https://pandas.pydata.org/pandas-docs/stable/user_guide/indexing.html#returning-a-view-versus-a-copy\n",
      "\n"
     ]
    }
   ],
   "source": [
    "gym = alldata[alldata.scene_index==1]\n",
    "gym['time'] = pd.to_datetime(gym['time'], format=\"%H:%M:%S\").dt.time\n",
    "#gym = gym[gym.time >= datetime.time(15,7,37)]"
   ]
  },
  {
   "cell_type": "code",
   "execution_count": 5,
   "metadata": {},
   "outputs": [
    {
     "name": "stderr",
     "output_type": "stream",
     "text": [
      "/Users/bonaventurapacileo/anaconda3/lib/python3.7/site-packages/ipykernel_launcher.py:6: SettingWithCopyWarning:\n",
      "\n",
      "\n",
      "A value is trying to be set on a copy of a slice from a DataFrame.\n",
      "Try using .loc[row_indexer,col_indexer] = value instead\n",
      "\n",
      "See the caveats in the documentation: https://pandas.pydata.org/pandas-docs/stable/user_guide/indexing.html#returning-a-view-versus-a-copy\n",
      "\n",
      "/Users/bonaventurapacileo/anaconda3/lib/python3.7/site-packages/pandas/core/indexing.py:964: SettingWithCopyWarning:\n",
      "\n",
      "\n",
      "A value is trying to be set on a copy of a slice from a DataFrame.\n",
      "Try using .loc[row_indexer,col_indexer] = value instead\n",
      "\n",
      "See the caveats in the documentation: https://pandas.pydata.org/pandas-docs/stable/user_guide/indexing.html#returning-a-view-versus-a-copy\n",
      "\n"
     ]
    }
   ],
   "source": [
    "cols = [\"head_rotx\",\"head_roty\",\"head_rotz\",\"right_rotx\",\"right_roty\",\"right_rotz\",\n",
    "        \"left_rotx\",\"left_roty\",\"left_rotz\"]\n",
    "\n",
    "for col in cols:\n",
    "    #print(col)\n",
    "    gym[str(col+\"_n\")] = gym[col]\n",
    "    gym.loc[gym[str(col+\"_n\")]>180,str(col+\"_n\")] = gym.loc[gym[col]>180,col] - 360"
   ]
  },
  {
   "cell_type": "code",
   "execution_count": 6,
   "metadata": {},
   "outputs": [
    {
     "name": "stderr",
     "output_type": "stream",
     "text": [
      "/Users/bonaventurapacileo/anaconda3/lib/python3.7/site-packages/ipykernel_launcher.py:3: SettingWithCopyWarning:\n",
      "\n",
      "\n",
      "A value is trying to be set on a copy of a slice from a DataFrame.\n",
      "Try using .loc[row_indexer,col_indexer] = value instead\n",
      "\n",
      "See the caveats in the documentation: https://pandas.pydata.org/pandas-docs/stable/user_guide/indexing.html#returning-a-view-versus-a-copy\n",
      "\n"
     ]
    }
   ],
   "source": [
    "timedelta = pd.to_timedelta(gym.time.astype(str))\n",
    "diff = timedelta.diff().fillna(pd.Timedelta(seconds=0))/1e9\n",
    "gym['seconds'] = np.cumsum(diff).astype(int)"
   ]
  },
  {
   "cell_type": "code",
   "execution_count": 7,
   "metadata": {},
   "outputs": [
    {
     "name": "stderr",
     "output_type": "stream",
     "text": [
      "/Users/bonaventurapacileo/anaconda3/lib/python3.7/site-packages/ipykernel_launcher.py:5: SettingWithCopyWarning:\n",
      "\n",
      "\n",
      "A value is trying to be set on a copy of a slice from a DataFrame\n",
      "\n",
      "See the caveats in the documentation: https://pandas.pydata.org/pandas-docs/stable/user_guide/indexing.html#returning-a-view-versus-a-copy\n",
      "\n"
     ]
    }
   ],
   "source": [
    "timedelta = timedelta.reset_index()\n",
    "\n",
    "\n",
    "for row in range(1,len(timedelta)):\n",
    "    timedelta.time[row] = timedelta.time[row - 1] + datetime.timedelta(milliseconds=13)\n",
    "gym = gym.reset_index()\n",
    "#gym['time_ms'] = timedelta.time\n",
    "\n",
    "\n",
    "\n"
   ]
  },
  {
   "cell_type": "code",
   "execution_count": 8,
   "metadata": {},
   "outputs": [],
   "source": [
    "ms_time = [0]\n",
    "for row in range(1,len(gym)):\n",
    "    ms_time.append(ms_time[row-1] + 13)\n",
    "\n",
    "gym['ms_time'] = ms_time\n",
    "gym['ms_time'] = gym.ms_time/1000\n",
    "\n",
    "\n",
    "\n",
    "\n"
   ]
  },
  {
   "cell_type": "code",
   "execution_count": 9,
   "metadata": {},
   "outputs": [],
   "source": [
    "main_activity = ['w'] #replaced below with row=1\n",
    "\n",
    "for row in range(1,len(gym)):\n",
    "    #print(row)\n",
    "    x = np.abs(gym.head_rotx_n[row]-gym.head_rotx_n[row-1])\n",
    "    y = np.abs(gym.head_roty_n[row]-gym.head_roty_n[row-1])\n",
    "    z = np.abs(gym.head_rotz_n[row]-gym.head_rotz_n[row-1])\n",
    "    \n",
    "    diff = max(x,y,z)\n",
    "    \n",
    "    maskx = diff == np.abs(gym.head_rotx_n[row]-gym.head_rotx_n[row-1])\n",
    "    masky = diff == np.abs(gym.head_roty_n[row]-gym.head_roty_n[row-1])\n",
    "    maskz = diff == np.abs(gym.head_rotz_n[row]-gym.head_rotz_n[row-1])\n",
    "    \n",
    "    if maskx:\n",
    "        if gym.head_rotx_n[row]-gym.head_rotx_n[row-1]>=0:\n",
    "            main_activity.append('FLEX')\n",
    "        else:\n",
    "            main_activity.append('EXTE')\n",
    " \n",
    "    elif masky:\n",
    "        if gym.head_roty_n[row]-gym.head_roty_n[row-1]>=0:\n",
    "            main_activity.append('RROT')\n",
    "        else:\n",
    "            main_activity.append('LROT')\n",
    "             \n",
    "    elif maskz:\n",
    "        if gym.head_rotz_n[row]-gym.head_rotz_n[row-1]>=0:\n",
    "            main_activity.append('RBEN')\n",
    "        else:\n",
    "            main_activity.append('LBEN')\n",
    "    else:\n",
    "        print('error at {}'.format(row))\n",
    "\n",
    "main_activity[0] = main_activity[1]\n",
    "\n",
    "\n",
    "gym['activity'] = main_activity\n",
    "    "
   ]
  },
  {
   "cell_type": "code",
   "execution_count": 10,
   "metadata": {},
   "outputs": [
    {
     "data": {
      "text/html": [
       "<div>\n",
       "<style scoped>\n",
       "    .dataframe tbody tr th:only-of-type {\n",
       "        vertical-align: middle;\n",
       "    }\n",
       "\n",
       "    .dataframe tbody tr th {\n",
       "        vertical-align: top;\n",
       "    }\n",
       "\n",
       "    .dataframe thead th {\n",
       "        text-align: right;\n",
       "    }\n",
       "</style>\n",
       "<table border=\"1\" class=\"dataframe\">\n",
       "  <thead>\n",
       "    <tr style=\"text-align: right;\">\n",
       "      <th></th>\n",
       "      <th>level_0</th>\n",
       "      <th>index</th>\n",
       "      <th>scene_index</th>\n",
       "      <th>time</th>\n",
       "      <th>ms_lastline</th>\n",
       "      <th>head_posx</th>\n",
       "      <th>head_posy</th>\n",
       "      <th>head_posz</th>\n",
       "      <th>head_rotx</th>\n",
       "      <th>head_roty</th>\n",
       "      <th>...</th>\n",
       "      <th>head_rotz_n</th>\n",
       "      <th>right_rotx_n</th>\n",
       "      <th>right_roty_n</th>\n",
       "      <th>right_rotz_n</th>\n",
       "      <th>left_rotx_n</th>\n",
       "      <th>left_roty_n</th>\n",
       "      <th>left_rotz_n</th>\n",
       "      <th>seconds</th>\n",
       "      <th>ms_time</th>\n",
       "      <th>activity</th>\n",
       "    </tr>\n",
       "  </thead>\n",
       "  <tbody>\n",
       "    <tr>\n",
       "      <th>0</th>\n",
       "      <td>824</td>\n",
       "      <td>825</td>\n",
       "      <td>1</td>\n",
       "      <td>09:50:38</td>\n",
       "      <td>13</td>\n",
       "      <td>-0.006</td>\n",
       "      <td>1.644</td>\n",
       "      <td>0.018</td>\n",
       "      <td>34.471</td>\n",
       "      <td>4.440</td>\n",
       "      <td>...</td>\n",
       "      <td>-5.263</td>\n",
       "      <td>46.462</td>\n",
       "      <td>-75.452</td>\n",
       "      <td>111.881</td>\n",
       "      <td>58.622</td>\n",
       "      <td>161.740</td>\n",
       "      <td>-126.333</td>\n",
       "      <td>0</td>\n",
       "      <td>0.000</td>\n",
       "      <td>FLEX</td>\n",
       "    </tr>\n",
       "    <tr>\n",
       "      <th>1</th>\n",
       "      <td>825</td>\n",
       "      <td>826</td>\n",
       "      <td>1</td>\n",
       "      <td>09:50:38</td>\n",
       "      <td>13</td>\n",
       "      <td>-0.006</td>\n",
       "      <td>1.644</td>\n",
       "      <td>0.018</td>\n",
       "      <td>34.471</td>\n",
       "      <td>4.440</td>\n",
       "      <td>...</td>\n",
       "      <td>-5.263</td>\n",
       "      <td>46.451</td>\n",
       "      <td>-78.964</td>\n",
       "      <td>113.017</td>\n",
       "      <td>60.439</td>\n",
       "      <td>164.839</td>\n",
       "      <td>-115.737</td>\n",
       "      <td>0</td>\n",
       "      <td>0.013</td>\n",
       "      <td>FLEX</td>\n",
       "    </tr>\n",
       "    <tr>\n",
       "      <th>2</th>\n",
       "      <td>826</td>\n",
       "      <td>827</td>\n",
       "      <td>1</td>\n",
       "      <td>09:50:38</td>\n",
       "      <td>13</td>\n",
       "      <td>-0.003</td>\n",
       "      <td>1.643</td>\n",
       "      <td>0.018</td>\n",
       "      <td>34.661</td>\n",
       "      <td>5.449</td>\n",
       "      <td>...</td>\n",
       "      <td>-5.038</td>\n",
       "      <td>46.834</td>\n",
       "      <td>-77.765</td>\n",
       "      <td>113.489</td>\n",
       "      <td>60.139</td>\n",
       "      <td>165.253</td>\n",
       "      <td>-115.208</td>\n",
       "      <td>0</td>\n",
       "      <td>0.026</td>\n",
       "      <td>RROT</td>\n",
       "    </tr>\n",
       "    <tr>\n",
       "      <th>3</th>\n",
       "      <td>827</td>\n",
       "      <td>828</td>\n",
       "      <td>1</td>\n",
       "      <td>09:50:38</td>\n",
       "      <td>13</td>\n",
       "      <td>-0.001</td>\n",
       "      <td>1.642</td>\n",
       "      <td>0.019</td>\n",
       "      <td>34.934</td>\n",
       "      <td>6.572</td>\n",
       "      <td>...</td>\n",
       "      <td>-4.700</td>\n",
       "      <td>47.104</td>\n",
       "      <td>-78.519</td>\n",
       "      <td>115.688</td>\n",
       "      <td>60.759</td>\n",
       "      <td>165.608</td>\n",
       "      <td>-107.823</td>\n",
       "      <td>0</td>\n",
       "      <td>0.039</td>\n",
       "      <td>RROT</td>\n",
       "    </tr>\n",
       "    <tr>\n",
       "      <th>4</th>\n",
       "      <td>828</td>\n",
       "      <td>829</td>\n",
       "      <td>1</td>\n",
       "      <td>09:50:38</td>\n",
       "      <td>13</td>\n",
       "      <td>-0.001</td>\n",
       "      <td>1.642</td>\n",
       "      <td>0.019</td>\n",
       "      <td>34.934</td>\n",
       "      <td>6.572</td>\n",
       "      <td>...</td>\n",
       "      <td>-4.700</td>\n",
       "      <td>47.145</td>\n",
       "      <td>-79.108</td>\n",
       "      <td>116.822</td>\n",
       "      <td>61.262</td>\n",
       "      <td>166.726</td>\n",
       "      <td>-103.322</td>\n",
       "      <td>0</td>\n",
       "      <td>0.052</td>\n",
       "      <td>FLEX</td>\n",
       "    </tr>\n",
       "    <tr>\n",
       "      <th>...</th>\n",
       "      <td>...</td>\n",
       "      <td>...</td>\n",
       "      <td>...</td>\n",
       "      <td>...</td>\n",
       "      <td>...</td>\n",
       "      <td>...</td>\n",
       "      <td>...</td>\n",
       "      <td>...</td>\n",
       "      <td>...</td>\n",
       "      <td>...</td>\n",
       "      <td>...</td>\n",
       "      <td>...</td>\n",
       "      <td>...</td>\n",
       "      <td>...</td>\n",
       "      <td>...</td>\n",
       "      <td>...</td>\n",
       "      <td>...</td>\n",
       "      <td>...</td>\n",
       "      <td>...</td>\n",
       "      <td>...</td>\n",
       "      <td>...</td>\n",
       "    </tr>\n",
       "    <tr>\n",
       "      <th>26737</th>\n",
       "      <td>27561</td>\n",
       "      <td>27562</td>\n",
       "      <td>1</td>\n",
       "      <td>09:56:49</td>\n",
       "      <td>13</td>\n",
       "      <td>0.018</td>\n",
       "      <td>1.722</td>\n",
       "      <td>-0.021</td>\n",
       "      <td>353.811</td>\n",
       "      <td>3.994</td>\n",
       "      <td>...</td>\n",
       "      <td>-3.492</td>\n",
       "      <td>17.226</td>\n",
       "      <td>-29.221</td>\n",
       "      <td>-107.972</td>\n",
       "      <td>53.785</td>\n",
       "      <td>39.000</td>\n",
       "      <td>-105.960</td>\n",
       "      <td>371</td>\n",
       "      <td>347.581</td>\n",
       "      <td>EXTE</td>\n",
       "    </tr>\n",
       "    <tr>\n",
       "      <th>26738</th>\n",
       "      <td>27562</td>\n",
       "      <td>27563</td>\n",
       "      <td>1</td>\n",
       "      <td>09:56:49</td>\n",
       "      <td>13</td>\n",
       "      <td>0.018</td>\n",
       "      <td>1.722</td>\n",
       "      <td>-0.021</td>\n",
       "      <td>353.727</td>\n",
       "      <td>4.055</td>\n",
       "      <td>...</td>\n",
       "      <td>-3.502</td>\n",
       "      <td>17.262</td>\n",
       "      <td>-28.684</td>\n",
       "      <td>-107.960</td>\n",
       "      <td>53.948</td>\n",
       "      <td>41.416</td>\n",
       "      <td>-104.130</td>\n",
       "      <td>371</td>\n",
       "      <td>347.594</td>\n",
       "      <td>EXTE</td>\n",
       "    </tr>\n",
       "    <tr>\n",
       "      <th>26739</th>\n",
       "      <td>27563</td>\n",
       "      <td>27564</td>\n",
       "      <td>1</td>\n",
       "      <td>09:56:49</td>\n",
       "      <td>13</td>\n",
       "      <td>0.018</td>\n",
       "      <td>1.722</td>\n",
       "      <td>-0.021</td>\n",
       "      <td>353.665</td>\n",
       "      <td>4.112</td>\n",
       "      <td>...</td>\n",
       "      <td>-3.489</td>\n",
       "      <td>17.378</td>\n",
       "      <td>-28.650</td>\n",
       "      <td>-108.468</td>\n",
       "      <td>53.918</td>\n",
       "      <td>44.305</td>\n",
       "      <td>-101.741</td>\n",
       "      <td>371</td>\n",
       "      <td>347.607</td>\n",
       "      <td>EXTE</td>\n",
       "    </tr>\n",
       "    <tr>\n",
       "      <th>26740</th>\n",
       "      <td>27564</td>\n",
       "      <td>27565</td>\n",
       "      <td>1</td>\n",
       "      <td>09:56:49</td>\n",
       "      <td>13</td>\n",
       "      <td>0.018</td>\n",
       "      <td>1.722</td>\n",
       "      <td>-0.021</td>\n",
       "      <td>353.626</td>\n",
       "      <td>4.167</td>\n",
       "      <td>...</td>\n",
       "      <td>-3.466</td>\n",
       "      <td>16.862</td>\n",
       "      <td>-29.100</td>\n",
       "      <td>-109.396</td>\n",
       "      <td>53.759</td>\n",
       "      <td>46.772</td>\n",
       "      <td>-99.785</td>\n",
       "      <td>371</td>\n",
       "      <td>347.620</td>\n",
       "      <td>RROT</td>\n",
       "    </tr>\n",
       "    <tr>\n",
       "      <th>26741</th>\n",
       "      <td>27565</td>\n",
       "      <td>27566</td>\n",
       "      <td>1</td>\n",
       "      <td>09:56:49</td>\n",
       "      <td>13</td>\n",
       "      <td>0.018</td>\n",
       "      <td>1.722</td>\n",
       "      <td>-0.022</td>\n",
       "      <td>353.584</td>\n",
       "      <td>4.229</td>\n",
       "      <td>...</td>\n",
       "      <td>-3.457</td>\n",
       "      <td>15.975</td>\n",
       "      <td>-29.457</td>\n",
       "      <td>-109.734</td>\n",
       "      <td>53.394</td>\n",
       "      <td>48.704</td>\n",
       "      <td>-98.292</td>\n",
       "      <td>371</td>\n",
       "      <td>347.633</td>\n",
       "      <td>RROT</td>\n",
       "    </tr>\n",
       "  </tbody>\n",
       "</table>\n",
       "<p>26742 rows × 35 columns</p>\n",
       "</div>"
      ],
      "text/plain": [
       "       level_0  index  scene_index      time  ms_lastline  head_posx  \\\n",
       "0          824    825            1  09:50:38           13     -0.006   \n",
       "1          825    826            1  09:50:38           13     -0.006   \n",
       "2          826    827            1  09:50:38           13     -0.003   \n",
       "3          827    828            1  09:50:38           13     -0.001   \n",
       "4          828    829            1  09:50:38           13     -0.001   \n",
       "...        ...    ...          ...       ...          ...        ...   \n",
       "26737    27561  27562            1  09:56:49           13      0.018   \n",
       "26738    27562  27563            1  09:56:49           13      0.018   \n",
       "26739    27563  27564            1  09:56:49           13      0.018   \n",
       "26740    27564  27565            1  09:56:49           13      0.018   \n",
       "26741    27565  27566            1  09:56:49           13      0.018   \n",
       "\n",
       "       head_posy  head_posz  head_rotx  head_roty  ...  head_rotz_n  \\\n",
       "0          1.644      0.018     34.471      4.440  ...       -5.263   \n",
       "1          1.644      0.018     34.471      4.440  ...       -5.263   \n",
       "2          1.643      0.018     34.661      5.449  ...       -5.038   \n",
       "3          1.642      0.019     34.934      6.572  ...       -4.700   \n",
       "4          1.642      0.019     34.934      6.572  ...       -4.700   \n",
       "...          ...        ...        ...        ...  ...          ...   \n",
       "26737      1.722     -0.021    353.811      3.994  ...       -3.492   \n",
       "26738      1.722     -0.021    353.727      4.055  ...       -3.502   \n",
       "26739      1.722     -0.021    353.665      4.112  ...       -3.489   \n",
       "26740      1.722     -0.021    353.626      4.167  ...       -3.466   \n",
       "26741      1.722     -0.022    353.584      4.229  ...       -3.457   \n",
       "\n",
       "       right_rotx_n  right_roty_n  right_rotz_n  left_rotx_n  left_roty_n  \\\n",
       "0            46.462       -75.452       111.881       58.622      161.740   \n",
       "1            46.451       -78.964       113.017       60.439      164.839   \n",
       "2            46.834       -77.765       113.489       60.139      165.253   \n",
       "3            47.104       -78.519       115.688       60.759      165.608   \n",
       "4            47.145       -79.108       116.822       61.262      166.726   \n",
       "...             ...           ...           ...          ...          ...   \n",
       "26737        17.226       -29.221      -107.972       53.785       39.000   \n",
       "26738        17.262       -28.684      -107.960       53.948       41.416   \n",
       "26739        17.378       -28.650      -108.468       53.918       44.305   \n",
       "26740        16.862       -29.100      -109.396       53.759       46.772   \n",
       "26741        15.975       -29.457      -109.734       53.394       48.704   \n",
       "\n",
       "       left_rotz_n  seconds  ms_time  activity  \n",
       "0         -126.333        0    0.000      FLEX  \n",
       "1         -115.737        0    0.013      FLEX  \n",
       "2         -115.208        0    0.026      RROT  \n",
       "3         -107.823        0    0.039      RROT  \n",
       "4         -103.322        0    0.052      FLEX  \n",
       "...            ...      ...      ...       ...  \n",
       "26737     -105.960      371  347.581      EXTE  \n",
       "26738     -104.130      371  347.594      EXTE  \n",
       "26739     -101.741      371  347.607      EXTE  \n",
       "26740      -99.785      371  347.620      RROT  \n",
       "26741      -98.292      371  347.633      RROT  \n",
       "\n",
       "[26742 rows x 35 columns]"
      ]
     },
     "execution_count": 10,
     "metadata": {},
     "output_type": "execute_result"
    }
   ],
   "source": [
    "gym"
   ]
  },
  {
   "cell_type": "code",
   "execution_count": 11,
   "metadata": {},
   "outputs": [],
   "source": [
    "gym_red= gym.loc[:,['activity',\"head_rotx_n\",\"head_roty_n\",\"head_rotz_n\"]]\n",
    "\n",
    "gym_dict = {'FLEX':1, 'EXTE':2, 'RROT':3, 'LROT':4, 'RBEN':5, 'LBEN':6}"
   ]
  },
  {
   "cell_type": "code",
   "execution_count": 12,
   "metadata": {},
   "outputs": [],
   "source": [
    "act_num = []\n",
    "for row in range(len(gym_red)):\n",
    "    act_num.append(gym_dict[gym_red.loc[row,'activity']])\n",
    "\n",
    "gym_red['activity_n'] = act_num"
   ]
  },
  {
   "cell_type": "code",
   "execution_count": null,
   "metadata": {},
   "outputs": [],
   "source": []
  },
  {
   "cell_type": "code",
   "execution_count": null,
   "metadata": {},
   "outputs": [],
   "source": []
  },
  {
   "cell_type": "code",
   "execution_count": 13,
   "metadata": {},
   "outputs": [],
   "source": [
    "import pandas as pd\n",
    "import numpy as np\n",
    "import pickle\n",
    "import matplotlib.pyplot as plt\n",
    "from scipy import stats\n",
    "import tensorflow as tf\n",
    "import seaborn as sns\n",
    "from pylab import rcParams\n",
    "from sklearn import metrics\n",
    "from sklearn.model_selection import train_test_split\n",
    "\n",
    "RANDOM_SEED = 1992"
   ]
  },
  {
   "cell_type": "code",
   "execution_count": 14,
   "metadata": {},
   "outputs": [
    {
     "data": {
      "text/plain": [
       "(26742, 5)"
      ]
     },
     "execution_count": 14,
     "metadata": {},
     "output_type": "execute_result"
    }
   ],
   "source": [
    "df = gym_red\n",
    "\n",
    "df.shape #26742*5=133,710"
   ]
  },
  {
   "cell_type": "code",
   "execution_count": 15,
   "metadata": {},
   "outputs": [],
   "source": [
    "# what about OVERLAP????\n",
    "N_TIME_STEPS = 72 ## 1 second\n",
    "N_FEATURES = 3\n",
    "step = 20\n",
    "segments = []\n",
    "labels = []\n",
    "for i in range(0, len(df) - N_TIME_STEPS, step):\n",
    "    xs = df['head_rotx_n'].values[i: i + N_TIME_STEPS]\n",
    "    ys = df['head_roty_n'].values[i: i + N_TIME_STEPS]\n",
    "    zs = df['head_rotz_n'].values[i: i + N_TIME_STEPS]\n",
    "    label = stats.mode(df['activity'][i: i + N_TIME_STEPS])[0][0]\n",
    "    segments.append([xs, ys, zs])\n",
    "    labels.append(label)"
   ]
  },
  {
   "cell_type": "code",
   "execution_count": 16,
   "metadata": {},
   "outputs": [
    {
     "data": {
      "text/plain": [
       "(1334, 3, 72)"
      ]
     },
     "execution_count": 16,
     "metadata": {},
     "output_type": "execute_result"
    }
   ],
   "source": [
    "np.array(segments).shape #5,469,120 #133,710\n"
   ]
  },
  {
   "cell_type": "code",
   "execution_count": 17,
   "metadata": {},
   "outputs": [],
   "source": [
    "reshaped_segments = np.asarray(segments, dtype= np.float32).reshape(-1, N_TIME_STEPS, N_FEATURES)\n",
    "labels = np.asarray(pd.get_dummies(labels), dtype = np.float32)"
   ]
  },
  {
   "cell_type": "code",
   "execution_count": 18,
   "metadata": {},
   "outputs": [],
   "source": [
    "X_train, X_test, y_train, y_test = train_test_split(\n",
    "        reshaped_segments, labels, test_size=0.2, random_state=RANDOM_SEED)\n"
   ]
  },
  {
   "cell_type": "code",
   "execution_count": 19,
   "metadata": {},
   "outputs": [
    {
     "data": {
      "text/plain": [
       "(1334, 72, 3)"
      ]
     },
     "execution_count": 19,
     "metadata": {},
     "output_type": "execute_result"
    }
   ],
   "source": [
    "tf.reset_default_graph()\n",
    "reshaped_segments.shape\n"
   ]
  },
  {
   "cell_type": "code",
   "execution_count": 20,
   "metadata": {},
   "outputs": [],
   "source": [
    "N_CLASSES = 6\n",
    "N_HIDDEN_UNITS = 32 #it was 64\n",
    "def create_LSTM_model(inputs):\n",
    "    W = {\n",
    "        'hidden': tf.Variable(tf.random_normal([N_FEATURES, N_HIDDEN_UNITS])),\n",
    "        'output': tf.Variable(tf.random_normal([N_HIDDEN_UNITS, N_CLASSES]))\n",
    "    }\n",
    "    biases = {\n",
    "        'hidden': tf.Variable(tf.random_normal([N_HIDDEN_UNITS], mean=1.0)),\n",
    "        'output': tf.Variable(tf.random_normal([N_CLASSES]))\n",
    "    }\n",
    "    \n",
    "    X = tf.transpose(inputs, [1, 0, 2])\n",
    "    X = tf.reshape(X, [-1, N_FEATURES])\n",
    "    hidden = tf.nn.relu(tf.matmul(X, W['hidden']) + biases['hidden'])\n",
    "    hidden = tf.split(hidden, N_TIME_STEPS, 0)\n",
    "\n",
    "    # Stack 2 LSTM layers\n",
    "    lstm_layers = [tf.contrib.rnn.BasicLSTMCell(N_HIDDEN_UNITS, forget_bias=1.0) for _ in range(2)]\n",
    "    lstm_layers = tf.contrib.rnn.MultiRNNCell(lstm_layers)\n",
    "\n",
    "    outputs, _ = tf.contrib.rnn.static_rnn(lstm_layers, hidden, dtype=tf.float32)\n",
    "\n",
    "    # Get output for the last time step\n",
    "    lstm_last_output = outputs[-1]\n",
    "\n",
    "    return tf.matmul(lstm_last_output, W['output']) + biases['output']"
   ]
  },
  {
   "cell_type": "code",
   "execution_count": 21,
   "metadata": {},
   "outputs": [],
   "source": [
    "\n",
    "X = tf.placeholder(tf.float32, [None, N_TIME_STEPS, N_FEATURES], name=\"input\")\n",
    "Y = tf.placeholder(tf.float32, [None, N_CLASSES])"
   ]
  },
  {
   "cell_type": "code",
   "execution_count": 22,
   "metadata": {},
   "outputs": [
    {
     "name": "stdout",
     "output_type": "stream",
     "text": [
      "WARNING:tensorflow:\n",
      "The TensorFlow contrib module will not be included in TensorFlow 2.0.\n",
      "For more information, please see:\n",
      "  * https://github.com/tensorflow/community/blob/master/rfcs/20180907-contrib-sunset.md\n",
      "  * https://github.com/tensorflow/addons\n",
      "  * https://github.com/tensorflow/io (for I/O related ops)\n",
      "If you depend on functionality not listed there, please file an issue.\n",
      "\n",
      "WARNING:tensorflow:From <ipython-input-20-b2c7f61a2332>:19: BasicLSTMCell.__init__ (from tensorflow.python.ops.rnn_cell_impl) is deprecated and will be removed in a future version.\n",
      "Instructions for updating:\n",
      "This class is equivalent as tf.keras.layers.LSTMCell, and will be replaced by that in Tensorflow 2.0.\n",
      "WARNING:tensorflow:From <ipython-input-20-b2c7f61a2332>:20: MultiRNNCell.__init__ (from tensorflow.python.ops.rnn_cell_impl) is deprecated and will be removed in a future version.\n",
      "Instructions for updating:\n",
      "This class is equivalent as tf.keras.layers.StackedRNNCells, and will be replaced by that in Tensorflow 2.0.\n",
      "WARNING:tensorflow:From <ipython-input-20-b2c7f61a2332>:22: static_rnn (from tensorflow.python.ops.rnn) is deprecated and will be removed in a future version.\n",
      "Instructions for updating:\n",
      "Please use `keras.layers.RNN(cell, unroll=True)`, which is equivalent to this API\n",
      "WARNING:tensorflow:From /Users/bonaventurapacileo/anaconda3/lib/python3.7/site-packages/tensorflow/python/ops/init_ops.py:1251: calling VarianceScaling.__init__ (from tensorflow.python.ops.init_ops) with dtype is deprecated and will be removed in a future version.\n",
      "Instructions for updating:\n",
      "Call initializer instance with the dtype argument instead of passing it to the constructor\n",
      "WARNING:tensorflow:From /Users/bonaventurapacileo/anaconda3/lib/python3.7/site-packages/tensorflow/python/ops/rnn_cell_impl.py:738: calling Zeros.__init__ (from tensorflow.python.ops.init_ops) with dtype is deprecated and will be removed in a future version.\n",
      "Instructions for updating:\n",
      "Call initializer instance with the dtype argument instead of passing it to the constructor\n"
     ]
    }
   ],
   "source": [
    "\n",
    "pred_Y = create_LSTM_model(X)\n",
    "\n",
    "pred_softmax = tf.nn.softmax(pred_Y, name=\"y_\")"
   ]
  },
  {
   "cell_type": "code",
   "execution_count": null,
   "metadata": {},
   "outputs": [],
   "source": [
    "#for i in tf.get_default_graph().get_operations():\n",
    "    #print(i.name)"
   ]
  },
  {
   "cell_type": "code",
   "execution_count": 23,
   "metadata": {},
   "outputs": [
    {
     "name": "stdout",
     "output_type": "stream",
     "text": [
      "WARNING:tensorflow:From <ipython-input-23-4720b2143aa0>:6: softmax_cross_entropy_with_logits (from tensorflow.python.ops.nn_ops) is deprecated and will be removed in a future version.\n",
      "Instructions for updating:\n",
      "\n",
      "Future major versions of TensorFlow will allow gradients to flow\n",
      "into the labels input on backprop by default.\n",
      "\n",
      "See `tf.nn.softmax_cross_entropy_with_logits_v2`.\n",
      "\n"
     ]
    }
   ],
   "source": [
    "L2_LOSS = 0.0015\n",
    "\n",
    "l2 = L2_LOSS * \\\n",
    "    sum(tf.nn.l2_loss(tf_var) for tf_var in tf.trainable_variables())\n",
    "\n",
    "loss = tf.reduce_mean(tf.nn.softmax_cross_entropy_with_logits(logits = pred_Y, labels = Y)) + l2"
   ]
  },
  {
   "cell_type": "code",
   "execution_count": 34,
   "metadata": {},
   "outputs": [],
   "source": [
    "LEARNING_RATE = 0.0025 #original 0.0025\n",
    "\n",
    "optimizer = tf.train.AdamOptimizer(learning_rate=LEARNING_RATE).minimize(loss)\n",
    "\n",
    "correct_pred = tf.equal(tf.argmax(pred_softmax, 1), tf.argmax(Y, 1))\n",
    "accuracy = tf.reduce_mean(tf.cast(correct_pred, dtype=tf.float32))"
   ]
  },
  {
   "cell_type": "code",
   "execution_count": null,
   "metadata": {},
   "outputs": [],
   "source": [
    "N_EPOCHS = 5\n",
    "BATCH_SIZE = 25\n",
    "saver = tf.train.Saver()\n",
    "\n",
    "history = dict(train_loss=[], \n",
    "                     train_acc=[], \n",
    "                     test_loss=[], \n",
    "                     test_acc=[])\n",
    "\n",
    "sess=tf.InteractiveSession()\n",
    "sess.run(tf.global_variables_initializer())\n",
    "\n",
    "train_count = len(X_train)\n",
    "\n",
    "for i in range(1, N_EPOCHS + 1):\n",
    "    for start, end in zip(range(0, train_count, BATCH_SIZE),\n",
    "                          range(BATCH_SIZE, train_count + 1,BATCH_SIZE)):\n",
    "        sess.run(optimizer, feed_dict={X: X_train[start:end],\n",
    "                                       Y: y_train[start:end]})\n",
    "\n",
    "    _, acc_train, loss_train = sess.run([pred_softmax, accuracy, loss], feed_dict={\n",
    "                                            X: X_train, Y: y_train})\n",
    "\n",
    "    _, acc_test, loss_test = sess.run([pred_softmax, accuracy, loss], feed_dict={\n",
    "                                            X: X_test, Y: y_test})\n",
    "\n",
    "    history['train_loss'].append(loss_train)\n",
    "    history['train_acc'].append(acc_train)\n",
    "    history['test_loss'].append(loss_test)\n",
    "    history['test_acc'].append(acc_test)\n",
    "\n",
    "    if i != 1 and i % 10 != 0:\n",
    "        continue\n",
    "\n",
    "    print(f'epoch: {i} test accuracy: {acc_test} loss: {loss_test}')\n",
    "    \n",
    "predictions, acc_final, loss_final = sess.run([pred_softmax, accuracy, loss], feed_dict={X: X_test, Y: y_test})\n",
    "\n",
    "print()\n",
    "print(f'final results: accuracy: {acc_final} loss: {loss_final}')"
   ]
  },
  {
   "cell_type": "code",
   "execution_count": 37,
   "metadata": {},
   "outputs": [],
   "source": [
    "sess.close()"
   ]
  },
  {
   "cell_type": "code",
   "execution_count": 28,
   "metadata": {},
   "outputs": [],
   "source": [
    "pickle.dump(predictions, open(\"predictions.p\", \"wb\"))\n",
    "pickle.dump(history, open(\"history.p\", \"wb\"))\n",
    "#tf.train.write_graph(sess.graph_def, '.', './checkpoint/har.pbtxt')  \n",
    "#saver.save(sess, save_path = \"./checkpoint/har.ckpt\")\n",
    "sess.close()"
   ]
  },
  {
   "cell_type": "code",
   "execution_count": 29,
   "metadata": {},
   "outputs": [],
   "source": [
    "history = pickle.load(open(\"history.p\", \"rb\"))\n",
    "predictions = pickle.load(open(\"predictions.p\", \"rb\"))"
   ]
  },
  {
   "cell_type": "code",
   "execution_count": 30,
   "metadata": {},
   "outputs": [
    {
     "data": {
      "image/png": "[encoded data removed]",
      "text/plain": [
       "<Figure size 864x576 with 1 Axes>"
      ]
     },
     "metadata": {
      "needs_background": "light"
     },
     "output_type": "display_data"
    }
   ],
   "source": [
    "plt.figure(figsize=(12, 8))\n",
    "#plt.plot(np.array(history['train_loss']), \"r--\", label=\"Train loss\")\n",
    "plt.plot(np.array(history['train_acc']), \"g--\", label=\"Train accuracy\")\n",
    "#plt.plot(np.array(history['test_loss']), \"r-\", label=\"Test loss\")\n",
    "plt.plot(np.array(history['test_acc']), \"g-\", label=\"Test accuracy\")\n",
    "plt.title(\"Training session's progress over iterations\")\n",
    "plt.legend(loc='upper right', shadow=True)\n",
    "plt.ylabel('Training Progress (Loss or Accuracy values)')\n",
    "plt.xlabel('Training Epoch')\n",
    "plt.ylim(0)\n",
    "plt.axhline(y=0.16, linewidth=1, color='r')\n",
    "plt.show()"
   ]
  },
  {
   "cell_type": "code",
   "execution_count": 31,
   "metadata": {},
   "outputs": [
    {
     "data": {
      "image/png": "[encoded data removed]",
      "text/plain": [
       "<Figure size 1872x1728 with 2 Axes>"
      ]
     },
     "metadata": {},
     "output_type": "display_data"
    }
   ],
   "source": [
    "%matplotlib inline\n",
    "\n",
    "sns.set(style='whitegrid', palette='muted', font_scale=1.5)\n",
    "\n",
    "#rcParams['figure.figsize'] = 14, 8\n",
    "LABELS = \"EXTE FLEX LBEN LROT RBEN RROT\".split()\n",
    "max_test = np.argmax(y_test, axis=1)\n",
    "max_predictions = np.argmax(predictions, axis=1)\n",
    "confusion_matrix = metrics.confusion_matrix(max_test, max_predictions)\n",
    "plt.figure(figsize=(26, 24))\n",
    "sns.heatmap(confusion_matrix, xticklabels=LABELS, yticklabels=LABELS, annot=True, fmt=\"d\");\n",
    "plt.title(\"Confusion matrix\")\n",
    "plt.ylabel('True label')\n",
    "plt.xlabel('Predicted label')\n",
    "#plt.show();\n",
    "\n",
    "plt.savefig('confusion.png')"
   ]
  },
  {
   "cell_type": "code",
   "execution_count": 25,
   "metadata": {},
   "outputs": [
    {
     "data": {
      "text/plain": [
       "array([[0., 0., 0., 0., 0., 1.],\n",
       "       [0., 1., 0., 0., 0., 0.],\n",
       "       [0., 0., 1., 0., 0., 0.],\n",
       "       ...,\n",
       "       [1., 0., 0., 0., 0., 0.],\n",
       "       [1., 0., 0., 0., 0., 0.],\n",
       "       [1., 0., 0., 0., 0., 0.]], dtype=float32)"
      ]
     },
     "execution_count": 25,
     "metadata": {},
     "output_type": "execute_result"
    }
   ],
   "source": [
    "labels"
   ]
  },
  {
   "cell_type": "code",
   "execution_count": 27,
   "metadata": {},
   "outputs": [],
   "source": [
    "v_labels=[]\n",
    "for i in range(0, len(df) - N_TIME_STEPS, step):\n",
    "    #xs = df['head_rotx_n'].values[i: i + N_TIME_STEPS]\n",
    "    #ys = df['head_roty_n'].values[i: i + N_TIME_STEPS]\n",
    "    #zs = df['head_rotz_n'].values[i: i + N_TIME_STEPS]\n",
    "    v_label = stats.mode(df['activity'][i: i + N_TIME_STEPS])[0][0]\n",
    "    #segments.append([xs, ys, zs])\n",
    "    v_labels.append(v_label)"
   ]
  },
  {
   "cell_type": "code",
   "execution_count": 40,
   "metadata": {},
   "outputs": [],
   "source": [
    "import os\n",
    "import sagemaker\n",
    "from sagemaker import get_execution_role\n",
    "\n",
    "sagemaker_session = sagemaker.Session()\n",
    "\n",
    "#role = get_execution_role()\n",
    "role = 'arn:aws:iam::264421419663:root'\n",
    "\n",
    "region = sagemaker_session.boto_session.region_name"
   ]
  },
  {
   "cell_type": "code",
   "execution_count": 41,
   "metadata": {},
   "outputs": [],
   "source": [
    "training_data_uri = 's3://sagemaker-sample-data-{}/tensorflow/mnist'.format(region)\n"
   ]
  },
  {
   "cell_type": "code",
   "execution_count": 43,
   "metadata": {},
   "outputs": [
    {
     "ename": "TypeError",
     "evalue": "the JSON object must be str, bytes or bytearray, not NoneType",
     "output_type": "error",
     "traceback": [
      "\u001b[0;31m---------------------------------------------------------------------------\u001b[0m",
      "\u001b[0;31mTypeError\u001b[0m                                 Traceback (most recent call last)",
      "\u001b[0;32m<ipython-input-43-cb514f4f8aad>\u001b[0m in \u001b[0;36m<module>\u001b[0;34m\u001b[0m\n\u001b[1;32m     53\u001b[0m \u001b[0;34m\u001b[0m\u001b[0m\n\u001b[1;32m     54\u001b[0m \u001b[0;32mif\u001b[0m \u001b[0m__name__\u001b[0m \u001b[0;34m==\u001b[0m \u001b[0;34m\"__main__\"\u001b[0m\u001b[0;34m:\u001b[0m\u001b[0;34m\u001b[0m\u001b[0;34m\u001b[0m\u001b[0m\n\u001b[0;32m---> 55\u001b[0;31m     \u001b[0margs\u001b[0m\u001b[0;34m,\u001b[0m \u001b[0munknown\u001b[0m \u001b[0;34m=\u001b[0m \u001b[0m_parse_args\u001b[0m\u001b[0;34m(\u001b[0m\u001b[0;34m)\u001b[0m\u001b[0;34m\u001b[0m\u001b[0;34m\u001b[0m\u001b[0m\n\u001b[0m\u001b[1;32m     56\u001b[0m \u001b[0;34m\u001b[0m\u001b[0m\n\u001b[1;32m     57\u001b[0m     \u001b[0mtrain_data\u001b[0m\u001b[0;34m,\u001b[0m \u001b[0mtrain_labels\u001b[0m \u001b[0;34m=\u001b[0m \u001b[0m_load_training_data\u001b[0m\u001b[0;34m(\u001b[0m\u001b[0margs\u001b[0m\u001b[0;34m.\u001b[0m\u001b[0mtrain\u001b[0m\u001b[0;34m)\u001b[0m\u001b[0;34m\u001b[0m\u001b[0;34m\u001b[0m\u001b[0m\n",
      "\u001b[0;32m<ipython-input-43-cb514f4f8aad>\u001b[0m in \u001b[0;36m_parse_args\u001b[0;34m()\u001b[0m\n\u001b[1;32m     46\u001b[0m     \u001b[0mparser\u001b[0m\u001b[0;34m.\u001b[0m\u001b[0madd_argument\u001b[0m\u001b[0;34m(\u001b[0m\u001b[0;34m'--sm-model-dir'\u001b[0m\u001b[0;34m,\u001b[0m \u001b[0mtype\u001b[0m\u001b[0;34m=\u001b[0m\u001b[0mstr\u001b[0m\u001b[0;34m,\u001b[0m \u001b[0mdefault\u001b[0m\u001b[0;34m=\u001b[0m\u001b[0mos\u001b[0m\u001b[0;34m.\u001b[0m\u001b[0menviron\u001b[0m\u001b[0;34m.\u001b[0m\u001b[0mget\u001b[0m\u001b[0;34m(\u001b[0m\u001b[0;34m'SM_MODEL_DIR'\u001b[0m\u001b[0;34m)\u001b[0m\u001b[0;34m)\u001b[0m\u001b[0;34m\u001b[0m\u001b[0;34m\u001b[0m\u001b[0m\n\u001b[1;32m     47\u001b[0m     \u001b[0mparser\u001b[0m\u001b[0;34m.\u001b[0m\u001b[0madd_argument\u001b[0m\u001b[0;34m(\u001b[0m\u001b[0;34m'--train'\u001b[0m\u001b[0;34m,\u001b[0m \u001b[0mtype\u001b[0m\u001b[0;34m=\u001b[0m\u001b[0mstr\u001b[0m\u001b[0;34m,\u001b[0m \u001b[0mdefault\u001b[0m\u001b[0;34m=\u001b[0m\u001b[0mos\u001b[0m\u001b[0;34m.\u001b[0m\u001b[0menviron\u001b[0m\u001b[0;34m.\u001b[0m\u001b[0mget\u001b[0m\u001b[0;34m(\u001b[0m\u001b[0;34m'SM_CHANNEL_TRAINING'\u001b[0m\u001b[0;34m)\u001b[0m\u001b[0;34m)\u001b[0m\u001b[0;34m\u001b[0m\u001b[0;34m\u001b[0m\u001b[0m\n\u001b[0;32m---> 48\u001b[0;31m     \u001b[0mparser\u001b[0m\u001b[0;34m.\u001b[0m\u001b[0madd_argument\u001b[0m\u001b[0;34m(\u001b[0m\u001b[0;34m'--hosts'\u001b[0m\u001b[0;34m,\u001b[0m \u001b[0mtype\u001b[0m\u001b[0;34m=\u001b[0m\u001b[0mlist\u001b[0m\u001b[0;34m,\u001b[0m \u001b[0mdefault\u001b[0m\u001b[0;34m=\u001b[0m\u001b[0mjson\u001b[0m\u001b[0;34m.\u001b[0m\u001b[0mloads\u001b[0m\u001b[0;34m(\u001b[0m\u001b[0mos\u001b[0m\u001b[0;34m.\u001b[0m\u001b[0menviron\u001b[0m\u001b[0;34m.\u001b[0m\u001b[0mget\u001b[0m\u001b[0;34m(\u001b[0m\u001b[0;34m'SM_HOSTS'\u001b[0m\u001b[0;34m)\u001b[0m\u001b[0;34m)\u001b[0m\u001b[0;34m)\u001b[0m\u001b[0;34m\u001b[0m\u001b[0;34m\u001b[0m\u001b[0m\n\u001b[0m\u001b[1;32m     49\u001b[0m     \u001b[0mparser\u001b[0m\u001b[0;34m.\u001b[0m\u001b[0madd_argument\u001b[0m\u001b[0;34m(\u001b[0m\u001b[0;34m'--current-host'\u001b[0m\u001b[0;34m,\u001b[0m \u001b[0mtype\u001b[0m\u001b[0;34m=\u001b[0m\u001b[0mstr\u001b[0m\u001b[0;34m,\u001b[0m \u001b[0mdefault\u001b[0m\u001b[0;34m=\u001b[0m\u001b[0mos\u001b[0m\u001b[0;34m.\u001b[0m\u001b[0menviron\u001b[0m\u001b[0;34m.\u001b[0m\u001b[0mget\u001b[0m\u001b[0;34m(\u001b[0m\u001b[0;34m'SM_CURRENT_HOST'\u001b[0m\u001b[0;34m)\u001b[0m\u001b[0;34m)\u001b[0m\u001b[0;34m\u001b[0m\u001b[0;34m\u001b[0m\u001b[0m\n\u001b[1;32m     50\u001b[0m \u001b[0;34m\u001b[0m\u001b[0m\n",
      "\u001b[0;32m~/anaconda3/lib/python3.7/json/__init__.py\u001b[0m in \u001b[0;36mloads\u001b[0;34m(s, encoding, cls, object_hook, parse_float, parse_int, parse_constant, object_pairs_hook, **kw)\u001b[0m\n\u001b[1;32m    339\u001b[0m     \u001b[0;32melse\u001b[0m\u001b[0;34m:\u001b[0m\u001b[0;34m\u001b[0m\u001b[0;34m\u001b[0m\u001b[0m\n\u001b[1;32m    340\u001b[0m         \u001b[0;32mif\u001b[0m \u001b[0;32mnot\u001b[0m \u001b[0misinstance\u001b[0m\u001b[0;34m(\u001b[0m\u001b[0ms\u001b[0m\u001b[0;34m,\u001b[0m \u001b[0;34m(\u001b[0m\u001b[0mbytes\u001b[0m\u001b[0;34m,\u001b[0m \u001b[0mbytearray\u001b[0m\u001b[0;34m)\u001b[0m\u001b[0;34m)\u001b[0m\u001b[0;34m:\u001b[0m\u001b[0;34m\u001b[0m\u001b[0;34m\u001b[0m\u001b[0m\n\u001b[0;32m--> 341\u001b[0;31m             raise TypeError(f'the JSON object must be str, bytes or bytearray, '\n\u001b[0m\u001b[1;32m    342\u001b[0m                             f'not {s.__class__.__name__}')\n\u001b[1;32m    343\u001b[0m         \u001b[0ms\u001b[0m \u001b[0;34m=\u001b[0m \u001b[0ms\u001b[0m\u001b[0;34m.\u001b[0m\u001b[0mdecode\u001b[0m\u001b[0;34m(\u001b[0m\u001b[0mdetect_encoding\u001b[0m\u001b[0;34m(\u001b[0m\u001b[0ms\u001b[0m\u001b[0;34m)\u001b[0m\u001b[0;34m,\u001b[0m \u001b[0;34m'surrogatepass'\u001b[0m\u001b[0;34m)\u001b[0m\u001b[0;34m\u001b[0m\u001b[0;34m\u001b[0m\u001b[0m\n",
      "\u001b[0;31mTypeError\u001b[0m: the JSON object must be str, bytes or bytearray, not NoneType"
     ]
    }
   ],
   "source": [
    "\n",
    "import tensorflow as tf\n",
    "import argparse\n",
    "import os\n",
    "import numpy as np\n",
    "import json\n",
    "\n",
    "\n",
    "def model(x_train, y_train, x_test, y_test):\n",
    "    \"\"\"Generate a simple model\"\"\"\n",
    "    model = tf.keras.models.Sequential([\n",
    "        tf.keras.layers.Flatten(),\n",
    "        tf.keras.layers.Dense(1024, activation=tf.nn.relu),\n",
    "        tf.keras.layers.Dropout(0.4),\n",
    "        tf.keras.layers.Dense(10, activation=tf.nn.softmax)\n",
    "    ])\n",
    "\n",
    "    model.compile(optimizer='adam',\n",
    "                  loss='sparse_categorical_crossentropy',\n",
    "                  metrics=['accuracy'])\n",
    "    model.fit(x_train, y_train)\n",
    "    model.evaluate(x_test, y_test)\n",
    "\n",
    "    return model\n",
    "\n",
    "\n",
    "def _load_training_data(base_dir):\n",
    "    \"\"\"Load MNIST training data\"\"\"\n",
    "    x_train = np.load(os.path.join(base_dir, 'train_data.npy'))\n",
    "    y_train = np.load(os.path.join(base_dir, 'train_labels.npy'))\n",
    "    return x_train, y_train\n",
    "\n",
    "\n",
    "def _load_testing_data(base_dir):\n",
    "    \"\"\"Load MNIST testing data\"\"\"\n",
    "    x_test = np.load(os.path.join(base_dir, 'eval_data.npy'))\n",
    "    y_test = np.load(os.path.join(base_dir, 'eval_labels.npy'))\n",
    "    return x_test, y_test\n",
    "\n",
    "\n",
    "def _parse_args():\n",
    "    parser = argparse.ArgumentParser()\n",
    "\n",
    "    # Data, model, and output directories\n",
    "    # model_dir is always passed in from SageMaker. By default this is a S3 path under the default bucket.\n",
    "    parser.add_argument('--model_dir', type=str)\n",
    "    parser.add_argument('--sm-model-dir', type=str, default=os.environ.get('SM_MODEL_DIR'))\n",
    "    parser.add_argument('--train', type=str, default=os.environ.get('SM_CHANNEL_TRAINING'))\n",
    "    parser.add_argument('--hosts', type=list, default=json.loads(os.environ.get('SM_HOSTS')))\n",
    "    parser.add_argument('--current-host', type=str, default=os.environ.get('SM_CURRENT_HOST'))\n",
    "\n",
    "    return parser.parse_known_args()\n",
    "\n",
    "\n",
    "if __name__ == \"__main__\":\n",
    "    args, unknown = _parse_args()\n",
    "\n",
    "    train_data, train_labels = _load_training_data(args.train)\n",
    "    eval_data, eval_labels = _load_testing_data(args.train)\n",
    "\n",
    "    mnist_classifier = model(train_data, train_labels, eval_data, eval_labels)\n",
    "\n",
    "    if args.current_host == args.hosts[0]:\n",
    "        # save model to an S3 directory with version number '00000001'\n",
    "        mnist_classifier.save(os.path.join(args.sm_model_dir, '000000001'), 'my_model.h5')"
   ]
  },
  {
   "cell_type": "code",
   "execution_count": 46,
   "metadata": {},
   "outputs": [],
   "source": [
    "os.environ.get('SM_MODEL_DIR')"
   ]
  },
  {
   "cell_type": "code",
   "execution_count": 45,
   "metadata": {},
   "outputs": [],
   "source": []
  },
  {
   "cell_type": "code",
   "execution_count": 46,
   "metadata": {},
   "outputs": [
    {
     "data": {
      "text/plain": [
       "['EXTE', 'FLEX', 'LBEN', 'LROT', 'RBEN', 'RROT']"
      ]
     },
     "execution_count": 46,
     "metadata": {},
     "output_type": "execute_result"
    }
   ],
   "source": [
    "LABELS"
   ]
  },
  {
   "cell_type": "code",
   "execution_count": null,
   "metadata": {},
   "outputs": [],
   "source": []
  }
 ],
 "metadata": {
  "kernelspec": {
   "display_name": "Python 3",
   "language": "python",
   "name": "python3"
  },
  "language_info": {
   "codemirror_mode": {
    "name": "ipython",
    "version": 3
   },
   "file_extension": ".py",
   "mimetype": "text/x-python",
   "name": "python",
   "nbconvert_exporter": "python",
   "pygments_lexer": "ipython3",
   "version": "3.7.3"
  }
 },
 "nbformat": 4,
 "nbformat_minor": 4
}
